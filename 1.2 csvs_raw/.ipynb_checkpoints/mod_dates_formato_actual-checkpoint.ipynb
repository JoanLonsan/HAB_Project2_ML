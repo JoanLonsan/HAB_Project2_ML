{
 "cells": [
  {
   "cell_type": "code",
   "execution_count": 1,
   "id": "cd7b8bb2-a0f0-47f3-a0aa-42242c375e3d",
   "metadata": {},
   "outputs": [],
   "source": [
    "import pandas as pd\n",
    "import os\n",
    "from datetime import datetime"
   ]
  },
  {
   "cell_type": "code",
   "execution_count": 2,
   "id": "6a6e414f-5066-4450-a8cf-8a74fa98202d",
   "metadata": {},
   "outputs": [],
   "source": [
    "# Función para extraer la fecha y hora del nombre del archivo\n",
    "def extract_datetime_from_filename(filename):\n",
    "    try:\n",
    "        # Extract date and time part from filename\n",
    "        date_str = filename.split('_')[2] + filename.split('_')[3].split('.')[0]\n",
    "        # Convert to datetime object\n",
    "        return datetime.strptime(date_str, '%Y%m%d%H%M%S')\n",
    "    except Exception as e:\n",
    "        print(f\"Error extracting datetime from {filename}: {e}\")\n",
    "        return None"
   ]
  },
  {
   "cell_type": "code",
   "execution_count": 3,
   "id": "b769fe9f-7457-44cb-8ada-8e0ac978e450",
   "metadata": {},
   "outputs": [
    {
     "name": "stdout",
     "output_type": "stream",
     "text": [
      "Processed cities_stations_20240702_130232.csv successfully.\n"
     ]
    }
   ],
   "source": [
    "# Obtener la lista de archivos CSV en el directorio actual\n",
    "csv_files = [f for f in os.listdir() if f.endswith('cities_stations_20240702_130232.csv')]\n",
    "\n",
    "for file in csv_files:\n",
    "    # Extraer la fecha y hora del nombre del archivo\n",
    "    file_datetime = extract_datetime_from_filename(file)\n",
    "    if file_datetime:\n",
    "        # Leer el archivo CSV\n",
    "        df = pd.read_csv(file)\n",
    "        \n",
    "        # Reemplazar la columna 'dates' con la fecha y hora extraída\n",
    "        df['dates'] = file_datetime\n",
    "        \n",
    "        # Guardar el archivo CSV con los cambios\n",
    "        df.to_csv(file, index=False)\n",
    "        print(f\"Processed {file} successfully.\")\n",
    "    else:\n",
    "        print(f\"Skipping {file} due to datetime extraction error.\")"
   ]
  },
  {
   "cell_type": "code",
   "execution_count": null,
   "id": "ea324460-6fe7-4498-bf8a-3d5ce446dcc4",
   "metadata": {},
   "outputs": [],
   "source": []
  }
 ],
 "metadata": {
  "kernelspec": {
   "display_name": "Python 3 (ipykernel)",
   "language": "python",
   "name": "python3"
  },
  "language_info": {
   "codemirror_mode": {
    "name": "ipython",
    "version": 3
   },
   "file_extension": ".py",
   "mimetype": "text/x-python",
   "name": "python",
   "nbconvert_exporter": "python",
   "pygments_lexer": "ipython3",
   "version": "3.11.5"
  }
 },
 "nbformat": 4,
 "nbformat_minor": 5
}
