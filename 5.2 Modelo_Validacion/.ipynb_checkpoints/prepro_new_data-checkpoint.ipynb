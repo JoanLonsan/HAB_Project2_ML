{
 "cells": [
  {
   "cell_type": "code",
   "execution_count": 1,
   "id": "660800f0-207e-4693-ac81-ab49e7e5b8c2",
   "metadata": {},
   "outputs": [],
   "source": [
    "import pandas as pd\n",
    "import numpy as np\n",
    "\n",
    "from joblib import load"
   ]
  },
  {
   "cell_type": "code",
   "execution_count": 2,
   "id": "2de7053f-b559-4a71-b82d-4510a65cefda",
   "metadata": {},
   "outputs": [],
   "source": [
    "# Cargar transformaciones y modelos\n",
    "encoder_loaded = load('../4.2 models_prepro/encoder.joblib')\n",
    "scaler_loaded = load('../4.2 models_prepro/scaler.joblib')\n",
    "imputer_loaded = load('../4.2 models_prepro/imputer.joblib')\n",
    "model_class = load('../5. Modelo_ML/model_classification.joblib')\n",
    "model_reg = load('../5. Modelo_ML/model_regression.joblib')"
   ]
  },
  {
   "cell_type": "code",
   "execution_count": 26,
   "id": "71da35fe-d05b-4709-94d1-09f26e0298d4",
   "metadata": {},
   "outputs": [
    {
     "name": "stdout",
     "output_type": "stream",
     "text": [
      "   next_class_encoded  next_score\n",
      "0                 4.0       37.27\n",
      "1                 4.0       36.74\n",
      "2                 4.0       41.20\n"
     ]
    }
   ],
   "source": [
    "# Carga transforms. guardados\n",
    "encoder_loaded = load('../4.2 models_prepro/encoder.joblib')\n",
    "scaler_loaded = load('../4.2 models_prepro/scaler.joblib')\n",
    "imputer_loaded = load('../4.2 models_prepro/imputer.joblib')\n",
    "model_class = load('../5. Modelo_ML/model_classification.joblib')\n",
    "model_reg = load('../5. Modelo_ML/model_regression.joblib')\n",
    "\n",
    "# Ejemplo de datos nuevos\n",
    "data = {\n",
    "    'names': ['Name1', 'Name2', 'Name3'],\n",
    "    'comunity': ['Community1', 'Community2', 'Community1'],\n",
    "    'scores': [80, 75, 85],\n",
    "    'dates': ['2024-07-01', '2024-07-02', '2024-07-03'],\n",
    "    'co': [0.5, 0.6, 0.7],\n",
    "    'humidity': [50, 55, 60],\n",
    "    'no2': [0.01, 0.02, 0.03],\n",
    "    'o3': [0.03, 0.04, 0.05],\n",
    "    'p': [1013, 1014, 1015],\n",
    "    'pm10': [20, 25, 30],\n",
    "    'pm25': [10, 12, 15],\n",
    "    'so2': [0.002, 0.003, 0.004],\n",
    "    'temp': [25, 26, 27],\n",
    "    'wind': [5, 6, 7],\n",
    "    'Dia': ['2024-07-01', '2024-07-02', '2024-07-03'],\n",
    "    'Hora': [8, 12, 16],\n",
    "    'periodo': ['mañana', 'mediodia', 'tarde'],\n",
    "    'calidad_aire': ['Buena', 'Buena', 'Moderada']\n",
    "}\n",
    "\n",
    "# Crear DataFrame\n",
    "df = pd.DataFrame(data)\n",
    "\n",
    "new_df = df\n",
    "new_df['dates'] = pd.to_datetime(new_df['dates'], errors='coerce')\n",
    "new_df['Dia'] = pd.to_datetime(new_df['Dia'])\n",
    "new_df['scores'] = pd.to_numeric(new_df['scores'], errors='coerce')\n",
    "\n",
    "# Definir cols categoricas y numericas\n",
    "categorical_features = ['names', 'comunity', 'periodo', 'calidad_aire']\n",
    "numeric_features = new_df.select_dtypes(include=['float64', 'int64']).columns.tolist()\n",
    "numeric_features.remove('scores')\n",
    "\n",
    "for col in categorical_features:\n",
    "    new_df[col] = new_df[col].astype('category')\n",
    "\n",
    "periodo_mapping = {'mañana': 0, 'mediodia': 1, 'tarde': 2, 'noche': 3, 'otro': 4}\n",
    "calidad_aire_mapping = {'Muy Dañina a la Salud': 0, 'Dañina a la Salud': 1, 'Dañina a la Salud de los Grupos Sensitivos': 2, 'Moderada': 3, 'Buena': 4, '-': 5}\n",
    "new_df['periodo_encoded'] = new_df['periodo'].map(periodo_mapping)\n",
    "new_df['calidad_aire_encoded'] = new_df['calidad_aire'].map(calidad_aire_mapping)\n",
    "\n",
    "df_enc = pd.DataFrame(encoder_loaded.transform(new_df[categorical_features]), columns=encoder_loaded.get_feature_names_out(categorical_features))\n",
    "df_imp = pd.DataFrame(imputer_loaded.transform(new_df[numeric_features]), columns=numeric_features)\n",
    "df_add = pd.concat([new_df['scores'], new_df['periodo_encoded'], new_df['calidad_aire_encoded']], axis=1)\n",
    "df_pred = pd.concat([df_add, df_imp, df_enc], axis=1)\n",
    "df_pred[numeric_features] = scaler_loaded.transform(df_pred[numeric_features])\n",
    "\n",
    "next_class_encoded = model_class.predict(df_pred)\n",
    "col_name = 'next_class_encoded'\n",
    "col_position = 3\n",
    "df_pred[col_name] = next_class_encoded\n",
    "df_pred.insert(col_position, col_name, df_pred.pop(col_name))\n",
    "\n",
    "next_score = model_reg.predict(df_pred)\n",
    "df_pred['next_score'] = next_score\n",
    "\n",
    "print(df_pred[['next_class_encoded', 'next_score']])"
   ]
  },
  {
   "cell_type": "code",
   "execution_count": null,
   "id": "82e07786-2a92-40ae-b6ed-ca520ebdd6dd",
   "metadata": {},
   "outputs": [],
   "source": []
  }
 ],
 "metadata": {
  "kernelspec": {
   "display_name": "Python 3 (ipykernel)",
   "language": "python",
   "name": "python3"
  },
  "language_info": {
   "codemirror_mode": {
    "name": "ipython",
    "version": 3
   },
   "file_extension": ".py",
   "mimetype": "text/x-python",
   "name": "python",
   "nbconvert_exporter": "python",
   "pygments_lexer": "ipython3",
   "version": "3.11.5"
  }
 },
 "nbformat": 4,
 "nbformat_minor": 5
}
