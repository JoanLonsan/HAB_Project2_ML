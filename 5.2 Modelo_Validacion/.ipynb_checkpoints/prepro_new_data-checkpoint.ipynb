{
 "cells": [
  {
   "cell_type": "code",
   "execution_count": 3,
   "id": "660800f0-207e-4693-ac81-ab49e7e5b8c2",
   "metadata": {},
   "outputs": [],
   "source": [
    "import pandas as pd\n",
    "import numpy as np\n",
    "\n",
    "from joblib import load"
   ]
  },
  {
   "cell_type": "code",
   "execution_count": null,
   "id": "71da35fe-d05b-4709-94d1-09f26e0298d4",
   "metadata": {},
   "outputs": [],
   "source": [
    "# Carga transforms. guardados\n",
    "encoder_loaded = load('../4.2 models_prepro/encoder.joblib')\n",
    "scaler_loaded = load('../4.2 models_prepro/scaler.joblib')\n",
    "imputer_loaded = load('../4.2 models_prepro/imputer.joblib')\n",
    "# Ruta hasta el csv nuevo, o ver como creamos la nueva entrada que queremos \"Predecir\"\n",
    "df_new = pd.read_csv(\" \") \n",
    "\n",
    "categorical_features = ['names', 'comunity', 'periodo', 'calidad_aire']\n",
    "numeric_features = df_raw.select_dtypes(include=['float64', 'int64']).columns.tolist()\n",
    "\n",
    "periodo_mapping = {'mañana': 0, 'mediodia': 1, 'tarde': 2, 'noche': 3, 'otro': 4}\n",
    "calidad_aire_mapping = {'Muy Dañina a la Salud': 0, 'Dañina a la Salud': 1, 'Dañina a la Salud de los Grupos Sensitivos': 2, 'Moderada': 3, 'Buena': 4, '-': 5}\n",
    "df_new['periodo_encoded'] = df_new['periodo'].map(periodo_mapping)\n",
    "df_new['calidad_aire_encoded'] = df_new['calidad_aire'].map(calidad_aire_mapping)\n",
    "\n",
    "# Transf categorical_features\n",
    "encoded_cats_new = encoder_loaded.transform(df_new[categorical_features])\n",
    "# Transf numeric_features\n",
    "scaled_nums_new = scaler_loaded.transform(df_new[numeric_features])\n",
    "\n",
    "# Crear DF con características transf\n",
    "encoded_cats_df_new = pd.DataFrame(encoded_cats_new, columns=encoder_loaded.get_feature_names_out(categorical_features))\n",
    "scaled_nums_df_new = pd.DataFrame(scaled_nums_new, columns=numeric_features)\n",
    "\n",
    "# Concatenar características transf\n",
    "df_new_prep = pd.concat([scaled_nums_df_new, encoded_cats_df_new], axis=1)"
   ]
  }
 ],
 "metadata": {
  "kernelspec": {
   "display_name": "Python 3 (ipykernel)",
   "language": "python",
   "name": "python3"
  },
  "language_info": {
   "codemirror_mode": {
    "name": "ipython",
    "version": 3
   },
   "file_extension": ".py",
   "mimetype": "text/x-python",
   "name": "python",
   "nbconvert_exporter": "python",
   "pygments_lexer": "ipython3",
   "version": "3.11.5"
  }
 },
 "nbformat": 4,
 "nbformat_minor": 5
}
