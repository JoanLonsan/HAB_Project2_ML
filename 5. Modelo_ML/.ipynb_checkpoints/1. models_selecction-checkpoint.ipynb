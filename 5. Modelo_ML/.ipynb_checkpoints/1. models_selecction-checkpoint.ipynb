{
 "cells": [
  {
   "cell_type": "code",
   "execution_count": 1,
   "id": "c5a110ab-ae5b-475b-9b1f-8a460c45e685",
   "metadata": {
    "tags": []
   },
   "outputs": [],
   "source": [
    "import pandas as pd\n",
    "import numpy as np\n",
    "from sklearn.model_selection import train_test_split,KFold, LeaveOneOut, TimeSeriesSplit, RepeatedKFold\n",
    "\n",
    "# Modelos de regresion lineal\n",
    "from sklearn.linear_model import LinearRegression, Ridge, Lasso, ElasticNet, BayesianRidge\n",
    "from sklearn.ensemble import RandomForestRegressor, GradientBoostingRegressor, ExtraTreesRegressor, HistGradientBoostingRegressor\n",
    "from sklearn.svm import SVR\n",
    "\n",
    "\n",
    "## Metricas\n",
    "from sklearn.metrics import mean_absolute_error, mean_squared_error, r2_score, root_mean_squared_error, classification_report,accuracy_score\n",
    "\n",
    "## Modelos de clasificacion\n",
    "from sklearn.tree import DecisionTreeRegressor\n",
    "from sklearn.tree import DecisionTreeClassifier\n",
    "from sklearn.ensemble import RandomForestClassifier, GradientBoostingClassifier, ExtraTreesClassifier, HistGradientBoostingClassifier\n",
    "from sklearn.svm import SVC\n",
    "from sklearn.neighbors import KNeighborsClassifier\n",
    "from sklearn.linear_model import LogisticRegression, RidgeClassifier\n",
    "from sklearn.naive_bayes import GaussianNB\n",
    "from sklearn.neural_network import MLPClassifier"
   ]
  },
  {
   "cell_type": "markdown",
   "id": "99031922-04d3-4679-be46-c568603cce33",
   "metadata": {},
   "source": [
    "### SELECCION ENTRE DIEZ MODELOS DE CLASIFICACION CON VALIDACIONES"
   ]
  },
  {
   "cell_type": "markdown",
   "id": "b7f1a2f5-326d-4651-9222-3d3a66983194",
   "metadata": {},
   "source": [
    "### Recoleccion y division de datos de datos"
   ]
  },
  {
   "cell_type": "code",
   "execution_count": 2,
   "id": "e426a12e-ae0a-480d-9d6c-1057b1699b71",
   "metadata": {
    "tags": []
   },
   "outputs": [],
   "source": [
    "df = pd.read_csv('../4.3 csv_prep_ml/df_ml.csv')\n",
    "target_clas = 'next_class_encoded'\n",
    "target_reg = 'next_score'\n",
    "X = df.drop(columns=[target_clas, target_reg], axis = 1)\n",
    "y = df[target_clas]"
   ]
  },
  {
   "cell_type": "markdown",
   "id": "a000adeb-a8d4-4132-9125-7b6e0f218958",
   "metadata": {},
   "source": [
    "### Lista de modelos a probar"
   ]
  },
  {
   "cell_type": "code",
   "execution_count": 3,
   "id": "bc2af380-e155-4112-b81b-06000f9ce4e6",
   "metadata": {
    "tags": []
   },
   "outputs": [],
   "source": [
    "models = [\n",
    "    ('Decision Tree', DecisionTreeClassifier(random_state=42)),\n",
    "    ('Random Forest', RandomForestClassifier(random_state=42, n_jobs=-1)),\n",
    "    ('SVC', SVC(random_state=42)),\n",
    "    ('KNN', KNeighborsClassifier(n_jobs=-1)),\n",
    "    ('Logistic Regression', LogisticRegression(random_state=42, max_iter=500, n_jobs=-1)),\n",
    "    ('Naive Bayes', GaussianNB()),\n",
    "    ('Gradient Boosting', GradientBoostingClassifier(random_state=42)),\n",
    "    ('MLP', MLPClassifier(random_state=42, max_iter=1000)),\n",
    "    ('Extra Trees', ExtraTreesClassifier(random_state=42, n_jobs=-1)),\n",
    "    ('Ridge Classifier', RidgeClassifier(random_state=42))\n",
    "]"
   ]
  },
  {
   "cell_type": "markdown",
   "id": "613ef9a7-7ceb-4a0f-b138-13fa191c7a30",
   "metadata": {},
   "source": [
    "### Funcion para evaluar modelo con diferentes tecnicas de validacion"
   ]
  },
  {
   "cell_type": "code",
   "execution_count": 4,
   "id": "62b94b68-0570-48d8-be6f-49658c1012a7",
   "metadata": {
    "tags": []
   },
   "outputs": [],
   "source": [
    "def evaluate_model(model, X, y):\n",
    "    results = {}\n",
    "    \n",
    "    # Holdout\n",
    "    accuracies = []\n",
    "    for i in range(50):\n",
    "        X_train, X_test, y_train, y_test = train_test_split(X,y,train_size=0.80)\n",
    "        model.fit(X_train, y_train)\n",
    "        y_pred_test = model.predict(X_test)\n",
    "        accuracy_test = accuracy_score(y_test, y_pred_test)\n",
    "        accuracies.append(accuracy_test)\n",
    "    results['Holdout'] = np.mean(lista_accuracys)\n",
    "    \n",
    "    # K-Fold Cross Validation\n",
    "    kf = KFold(n_splits=5)\n",
    "    accuracies = []\n",
    "    for train_index, val_index in kf.split(X):\n",
    "        X_train_kf, X_val_kf = X[train_index], X[val_index]\n",
    "        y_train_kf, y_val_kf = y[train_index], y[val_index]\n",
    "        model.fit(X_train_kf, y_train_kf)\n",
    "        y_pred_kf = model.predict(X_val_kf)\n",
    "        accuracies.append(accuracy_score(y_val_kf, y_pred_kf))\n",
    "    results['K-Fold'] = np.mean(accuracies)\n",
    "    \n",
    "    # Leave-One-Out Cross Validation (DEMASIADO TIEMPO DE PROCESAMIENTO!)\n",
    "    #loo = LeaveOneOut()\n",
    "    #accuracies = []\n",
    "    #for train_index, val_index in loo.split(X):\n",
    "    #    X_train_loo, X_val_loo = X.iloc[train_index], X.iloc[val_index]\n",
    "    #    y_train_loo, y_val_loo = y.iloc[train_index], y.iloc[val_index]\n",
    "    #    model.fit(X_train_loo, y_train_loo)\n",
    "    #    y_pred_loo = model.predict(X_val_loo)\n",
    "    #    accuracies.append(accuracy_score(y_val_loo, y_pred_loo))\n",
    "    #results['Leave-One-Out'] = np.mean(accuracies)\n",
    "    \n",
    "    # Time Series Split\n",
    "    tscv = TimeSeriesSplit()\n",
    "    accuracies = []\n",
    "    for train_index, val_index in tscv.split(X):\n",
    "        X_train_tscv, X_val_tscv = X[train_index], X[val_index]\n",
    "        y_train_tscv, y_val_tscv = y[train_index], y[val_index]\n",
    "        model.fit(X_train_tscv, y_train_tscv)\n",
    "        y_pred_tscv = model.predict(X_val_tscv)\n",
    "        accuracies.append(accuracy_score(y_val_tscv, y_pred_tscv))\n",
    "    results['TimeSeriesSplit'] = np.mean(accuracies)\n",
    "    \n",
    "    return results"
   ]
  },
  {
   "cell_type": "markdown",
   "id": "be61a078-82a6-476c-a747-5fac1a57ebe1",
   "metadata": {},
   "source": [
    "## Evaluar todos los modelos"
   ]
  },
  {
   "cell_type": "code",
   "execution_count": 5,
   "id": "292999d4-b99b-4703-8396-dfe708413678",
   "metadata": {
    "tags": []
   },
   "outputs": [
    {
     "ename": "KeyError",
     "evalue": "\"None of [Index([ 690,  691,  692,  693,  694,  695,  696,  697,  698,  699,\\n       ...\\n       3436, 3437, 3438, 3439, 3440, 3441, 3442, 3443, 3444, 3445],\\n      dtype='int32', length=2756)] are in the [columns]\"",
     "output_type": "error",
     "traceback": [
      "\u001b[1;31m---------------------------------------------------------------------------\u001b[0m",
      "\u001b[1;31mKeyError\u001b[0m                                  Traceback (most recent call last)",
      "Cell \u001b[1;32mIn[5], line 3\u001b[0m\n\u001b[0;32m      1\u001b[0m model_results \u001b[38;5;241m=\u001b[39m {}\n\u001b[0;32m      2\u001b[0m \u001b[38;5;28;01mfor\u001b[39;00m name, model \u001b[38;5;129;01min\u001b[39;00m models:\n\u001b[1;32m----> 3\u001b[0m     results \u001b[38;5;241m=\u001b[39m evaluate_model(model, X, y)\n\u001b[0;32m      4\u001b[0m     model_results[name] \u001b[38;5;241m=\u001b[39m results\n\u001b[0;32m      5\u001b[0m     \u001b[38;5;28mprint\u001b[39m(\u001b[38;5;124mf\u001b[39m\u001b[38;5;124m\"\u001b[39m\u001b[38;5;132;01m{\u001b[39;00mname\u001b[38;5;132;01m}\u001b[39;00m\u001b[38;5;124m: \u001b[39m\u001b[38;5;132;01m{\u001b[39;00mresults\u001b[38;5;132;01m}\u001b[39;00m\u001b[38;5;124m\"\u001b[39m)\n",
      "Cell \u001b[1;32mIn[4], line 18\u001b[0m, in \u001b[0;36mevaluate_model\u001b[1;34m(model, X, y)\u001b[0m\n\u001b[0;32m     16\u001b[0m accuracies \u001b[38;5;241m=\u001b[39m []\n\u001b[0;32m     17\u001b[0m \u001b[38;5;28;01mfor\u001b[39;00m train_index, val_index \u001b[38;5;129;01min\u001b[39;00m kf\u001b[38;5;241m.\u001b[39msplit(X):\n\u001b[1;32m---> 18\u001b[0m     X_train_kf, X_val_kf \u001b[38;5;241m=\u001b[39m X[train_index], X[val_index]\n\u001b[0;32m     19\u001b[0m     y_train_kf, y_val_kf \u001b[38;5;241m=\u001b[39m y[train_index], y[val_index]\n\u001b[0;32m     20\u001b[0m     model\u001b[38;5;241m.\u001b[39mfit(X_train_kf, y_train_kf)\n",
      "File \u001b[1;32m~\\anaconda3\\Lib\\site-packages\\pandas\\core\\frame.py:4108\u001b[0m, in \u001b[0;36mDataFrame.__getitem__\u001b[1;34m(self, key)\u001b[0m\n\u001b[0;32m   4106\u001b[0m     \u001b[38;5;28;01mif\u001b[39;00m is_iterator(key):\n\u001b[0;32m   4107\u001b[0m         key \u001b[38;5;241m=\u001b[39m \u001b[38;5;28mlist\u001b[39m(key)\n\u001b[1;32m-> 4108\u001b[0m     indexer \u001b[38;5;241m=\u001b[39m \u001b[38;5;28mself\u001b[39m\u001b[38;5;241m.\u001b[39mcolumns\u001b[38;5;241m.\u001b[39m_get_indexer_strict(key, \u001b[38;5;124m\"\u001b[39m\u001b[38;5;124mcolumns\u001b[39m\u001b[38;5;124m\"\u001b[39m)[\u001b[38;5;241m1\u001b[39m]\n\u001b[0;32m   4110\u001b[0m \u001b[38;5;66;03m# take() does not accept boolean indexers\u001b[39;00m\n\u001b[0;32m   4111\u001b[0m \u001b[38;5;28;01mif\u001b[39;00m \u001b[38;5;28mgetattr\u001b[39m(indexer, \u001b[38;5;124m\"\u001b[39m\u001b[38;5;124mdtype\u001b[39m\u001b[38;5;124m\"\u001b[39m, \u001b[38;5;28;01mNone\u001b[39;00m) \u001b[38;5;241m==\u001b[39m \u001b[38;5;28mbool\u001b[39m:\n",
      "File \u001b[1;32m~\\anaconda3\\Lib\\site-packages\\pandas\\core\\indexes\\base.py:6200\u001b[0m, in \u001b[0;36mIndex._get_indexer_strict\u001b[1;34m(self, key, axis_name)\u001b[0m\n\u001b[0;32m   6197\u001b[0m \u001b[38;5;28;01melse\u001b[39;00m:\n\u001b[0;32m   6198\u001b[0m     keyarr, indexer, new_indexer \u001b[38;5;241m=\u001b[39m \u001b[38;5;28mself\u001b[39m\u001b[38;5;241m.\u001b[39m_reindex_non_unique(keyarr)\n\u001b[1;32m-> 6200\u001b[0m \u001b[38;5;28mself\u001b[39m\u001b[38;5;241m.\u001b[39m_raise_if_missing(keyarr, indexer, axis_name)\n\u001b[0;32m   6202\u001b[0m keyarr \u001b[38;5;241m=\u001b[39m \u001b[38;5;28mself\u001b[39m\u001b[38;5;241m.\u001b[39mtake(indexer)\n\u001b[0;32m   6203\u001b[0m \u001b[38;5;28;01mif\u001b[39;00m \u001b[38;5;28misinstance\u001b[39m(key, Index):\n\u001b[0;32m   6204\u001b[0m     \u001b[38;5;66;03m# GH 42790 - Preserve name from an Index\u001b[39;00m\n",
      "File \u001b[1;32m~\\anaconda3\\Lib\\site-packages\\pandas\\core\\indexes\\base.py:6249\u001b[0m, in \u001b[0;36mIndex._raise_if_missing\u001b[1;34m(self, key, indexer, axis_name)\u001b[0m\n\u001b[0;32m   6247\u001b[0m \u001b[38;5;28;01mif\u001b[39;00m nmissing:\n\u001b[0;32m   6248\u001b[0m     \u001b[38;5;28;01mif\u001b[39;00m nmissing \u001b[38;5;241m==\u001b[39m \u001b[38;5;28mlen\u001b[39m(indexer):\n\u001b[1;32m-> 6249\u001b[0m         \u001b[38;5;28;01mraise\u001b[39;00m \u001b[38;5;167;01mKeyError\u001b[39;00m(\u001b[38;5;124mf\u001b[39m\u001b[38;5;124m\"\u001b[39m\u001b[38;5;124mNone of [\u001b[39m\u001b[38;5;132;01m{\u001b[39;00mkey\u001b[38;5;132;01m}\u001b[39;00m\u001b[38;5;124m] are in the [\u001b[39m\u001b[38;5;132;01m{\u001b[39;00maxis_name\u001b[38;5;132;01m}\u001b[39;00m\u001b[38;5;124m]\u001b[39m\u001b[38;5;124m\"\u001b[39m)\n\u001b[0;32m   6251\u001b[0m     not_found \u001b[38;5;241m=\u001b[39m \u001b[38;5;28mlist\u001b[39m(ensure_index(key)[missing_mask\u001b[38;5;241m.\u001b[39mnonzero()[\u001b[38;5;241m0\u001b[39m]]\u001b[38;5;241m.\u001b[39munique())\n\u001b[0;32m   6252\u001b[0m     \u001b[38;5;28;01mraise\u001b[39;00m \u001b[38;5;167;01mKeyError\u001b[39;00m(\u001b[38;5;124mf\u001b[39m\u001b[38;5;124m\"\u001b[39m\u001b[38;5;132;01m{\u001b[39;00mnot_found\u001b[38;5;132;01m}\u001b[39;00m\u001b[38;5;124m not in index\u001b[39m\u001b[38;5;124m\"\u001b[39m)\n",
      "\u001b[1;31mKeyError\u001b[0m: \"None of [Index([ 690,  691,  692,  693,  694,  695,  696,  697,  698,  699,\\n       ...\\n       3436, 3437, 3438, 3439, 3440, 3441, 3442, 3443, 3444, 3445],\\n      dtype='int32', length=2756)] are in the [columns]\""
     ]
    }
   ],
   "source": [
    "model_results = {}\n",
    "for name, model in models:\n",
    "    results = evaluate_model(model, X, y)\n",
    "    model_results[name] = results\n",
    "    print(f\"{name}: {results}\")"
   ]
  },
  {
   "cell_type": "markdown",
   "id": "1c34af43-a179-4bd7-94a2-ce75d297b400",
   "metadata": {},
   "source": [
    "## Seleccion de los dos mejores modelos segun el puntaje"
   ]
  },
  {
   "cell_type": "code",
   "execution_count": null,
   "id": "4796d2a8-249a-45c7-83c1-e12236a8b4f1",
   "metadata": {
    "tags": []
   },
   "outputs": [],
   "source": [
    "average_accuracies = {name: np.mean(list(scores.values())) for name, scores in model_results.items()}\n",
    "best_models = sorted(average_accuracies, key=average_accuracies.get, reverse=True)[:2]\n",
    "print(f\"Los dos mejores modelos: {best_models}\")"
   ]
  },
  {
   "cell_type": "markdown",
   "id": "051f70fb-327b-4e7f-9ad3-adce658d948b",
   "metadata": {},
   "source": [
    "## SELECCION ENTRE DIEZ MODELOS DE REGRESION CON VALIDACIONES"
   ]
  },
  {
   "cell_type": "code",
   "execution_count": null,
   "id": "79c0ba65-4a6c-4f4d-94e9-a89d78da38a6",
   "metadata": {
    "tags": []
   },
   "outputs": [],
   "source": [
    "%%time\n",
    "df_preprocessed = pd.read_csv('../4.3 csv_prep_ml/df_ml.csv')\n",
    "X = df_preprocessed.drop(columns=['next_score']).values\n",
    "y = df_preprocessed['next_score'].values\n",
    "\n",
    "# Lista de modelos a probar\n",
    "models = [\n",
    "    ('Linear Regression', LinearRegression(n_jobs=-1)),\n",
    "    ('Ridge', Ridge(random_state=42)),\n",
    "    ('Lasso', Lasso(random_state=42)),\n",
    "    ('ElasticNet', ElasticNet(random_state=42)),\n",
    "    ('Bayesian Ridge', BayesianRidge()),\n",
    "    ('Random Forest', RandomForestRegressor(random_state=42, n_jobs=-1)),\n",
    "    ('SVR', SVR()),\n",
    "    ('Gradient Boosting', GradientBoostingRegressor(random_state=42)),\n",
    "    ('Hist Gradient Boosting', HistGradientBoostingRegressor(random_state=42)),\n",
    "    ('Extra Trees', ExtraTreesRegressor(random_state=42, n_jobs=-1))\n",
    "]\n",
    "# Función para evaluar el modelo con diferentes técnicas de validación\n",
    "def evaluate_model(model, X, y):\n",
    "    results = {}\n",
    "    \n",
    "    # Holdout\n",
    "    accuracies = []\n",
    "    for i in range(50):\n",
    "        X_train, X_test, y_train, y_test = train_test_split(X, y, train_size=0.80, random_state=i)\n",
    "        model.fit(X_train, y_train)\n",
    "        y_pred_test = model.predict(X_test)\n",
    "        r2_test = r2_score(y_test, y_pred_test)\n",
    "        mae_test = mean_absolute_error(y_test, y_pred_test)\n",
    "        accuracies.append((r2_test, mae_test))\n",
    "    results['Holdout'] = {'R2': np.mean([a[0] for a in accuracies]), 'MAE': np.mean([a[1] for a in accuracies])}\n",
    "    \n",
    "    # K-Fold Cross Validation\n",
    "    kf = KFold(n_splits=5, random_state=42, shuffle=True)\n",
    "    r2_scores = []\n",
    "    mae_scores = []\n",
    "    for train_index, val_index in kf.split(X):\n",
    "        X_train_kf, X_val_kf = X[train_index], X[val_index]\n",
    "        y_train_kf, y_val_kf = y[train_index], y[val_index]\n",
    "        model.fit(X_train_kf, y_train_kf)\n",
    "        y_pred_kf = model.predict(X_val_kf)\n",
    "        r2_scores.append(r2_score(y_val_kf, y_pred_kf))\n",
    "        mae_scores.append(mean_absolute_error(y_val_kf, y_pred_kf))\n",
    "    results['K-Fold'] = {'R2': np.mean(r2_scores), 'MAE': np.mean(mae_scores)}\n",
    "    \n",
    "    # Repeated K-Fold Cross Validation\n",
    "    rkf = RepeatedKFold(n_splits=5, n_repeats=3, random_state=42)\n",
    "    r2_scores_rkf = []\n",
    "    mae_scores_rkf = []\n",
    "    for train_index, val_index in rkf.split(X):\n",
    "        X_train_rkf, X_val_rkf = X[train_index], X[val_index]\n",
    "        y_train_rkf, y_val_rkf = y[train_index], y[val_index]\n",
    "        model.fit(X_train_rkf, y_train_rkf)\n",
    "        y_pred_rkf = model.predict(X_val_rkf)\n",
    "        r2_scores_rkf.append(r2_score(y_val_rkf, y_pred_rkf))\n",
    "        mae_scores_rkf.append(mean_absolute_error(y_val_rkf, y_pred_rkf))\n",
    "    results['Repeated K-Fold'] = {'R2': np.mean(r2_scores_rkf), 'MAE': np.mean(mae_scores_rkf)}\n",
    "    \n",
    "    return results\n",
    "\n",
    "# Evaluar todos los modelos\n",
    "model_results = {}\n",
    "for name, model in models:\n",
    "    results = evaluate_model(model, X, y)\n",
    "    model_results[name] = results\n",
    "    print(f\"{name}: {results}\")\n",
    "\n",
    "# Seleccionar los dos mejores modelos basados en el R2 promedio (mayor es mejor)\n",
    "average_r2 = {name: np.mean([scores['K-Fold']['R2'], scores['Repeated K-Fold']['R2']]) for name, scores in model_results.items()}\n",
    "best_models = sorted(average_r2, key=average_r2.get, reverse=True)[:2]\n",
    "print(f\"Los dos mejores modelos: {best_models}\")"
   ]
  }
 ],
 "metadata": {
  "kernelspec": {
   "display_name": "Python 3 (ipykernel)",
   "language": "python",
   "name": "python3"
  },
  "language_info": {
   "codemirror_mode": {
    "name": "ipython",
    "version": 3
   },
   "file_extension": ".py",
   "mimetype": "text/x-python",
   "name": "python",
   "nbconvert_exporter": "python",
   "pygments_lexer": "ipython3",
   "version": "3.11.5"
  }
 },
 "nbformat": 4,
 "nbformat_minor": 5
}
