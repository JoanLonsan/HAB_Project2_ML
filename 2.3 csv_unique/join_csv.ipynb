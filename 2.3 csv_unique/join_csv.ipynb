{
 "cells": [
  {
   "cell_type": "code",
   "execution_count": 4,
   "id": "dfac061a-039c-47b5-9088-dc339e5f1710",
   "metadata": {},
   "outputs": [],
   "source": [
    "import pandas as pd\n",
    "import os"
   ]
  },
  {
   "cell_type": "code",
   "execution_count": 13,
   "id": "388e65fd-0fa5-44f1-84c4-c175ebf3f00c",
   "metadata": {
    "scrolled": true
   },
   "outputs": [
    {
     "data": {
      "text/plain": [
       "[                                names comunity scores  \\\n",
       " 0                              Madrid   Madrid     35   \n",
       " 1        Casa De Campo, Madrid, Spain   Madrid     41   \n",
       " 2     Escuelas Aguirre, Madrid, Spain   Madrid     35   \n",
       " 3       Cuatro Caminos, Madrid, Spain   Madrid     34   \n",
       " 4    Plaza De Castilla, Madrid, Spain   Madrid     30   \n",
       " ..                                ...      ...    ...   \n",
       " 169      Tlalnepantla, México, Mexico      NaN     70   \n",
       " 170      Tlaneplantla, México, Mexico      NaN      -   \n",
       " 171         Tultitlan, México, Mexico      NaN      -   \n",
       " 172         Camarones, México, Mexico      NaN      -   \n",
       " 173         Velódromo, Puebla, Mexico      NaN     98   \n",
       " \n",
       "                          dates    co  humidity   no2    o3       p  pm10  \\\n",
       " 0    2024-06-28T18:54:27+09:00   0.1      49.6   7.4  34.6  1016.4  16.0   \n",
       " 1    2024-06-28T18:51:45+09:00   NaN      46.2   4.2  40.7  1016.4  19.0   \n",
       " 2    2024-06-28T18:51:47+09:00   0.1      46.2   7.4  34.6  1016.4  24.0   \n",
       " 3    2024-06-28T18:51:45+09:00   NaN      46.2   6.0   NaN  1016.4  21.0   \n",
       " 4    2024-06-28T18:51:46+09:00   NaN      46.2   5.1   NaN  1016.4  20.0   \n",
       " ..                         ...   ...       ...   ...   ...     ...   ...   \n",
       " 169  2023-09-10T05:40:18+09:00   4.5      28.0   9.3  49.6  1026.5  40.0   \n",
       " 170  2021-12-18T06:32:04+09:00   NaN      54.0   NaN   NaN  1007.0   NaN   \n",
       " 171  2023-06-30T23:43:12+09:00   NaN      59.0   NaN   NaN  1027.7   NaN   \n",
       " 172  2023-08-30T22:44:39+09:00   NaN      62.0   NaN   NaN  1027.4   NaN   \n",
       " 173  2024-06-12T12:14:02+09:00  18.0      46.0  11.5  23.2  1024.0  70.0   \n",
       " \n",
       "      pm25  so2  temp  wind  \n",
       " 0    25.0  1.6  23.8   4.7  \n",
       " 1    17.0  NaN  23.6   4.7  \n",
       " 2    25.0  1.6  23.6   4.7  \n",
       " 3    34.0  NaN  23.6   4.7  \n",
       " 4    30.0  NaN  23.6   4.7  \n",
       " ..    ...  ...   ...   ...  \n",
       " 169  70.0  2.9  24.0   1.5  \n",
       " 170   NaN  NaN  20.0  11.0  \n",
       " 171   NaN  NaN  19.0   1.5  \n",
       " 172   NaN  NaN  12.0   2.5  \n",
       " 173  98.0  1.3  21.0   7.2  \n",
       " \n",
       " [174 rows x 14 columns],\n",
       "                                 names comunity scores  \\\n",
       " 0                              Madrid   Madrid     28   \n",
       " 1     Escuelas Aguirre, Madrid, Spain   Madrid     50   \n",
       " 2          Sanchinarro, Madrid, Spain   Madrid     46   \n",
       " 3    Plaza De Castilla, Madrid, Spain   Madrid     38   \n",
       " 4       Cuatro Caminos, Madrid, Spain   Madrid     34   \n",
       " ..                                ...      ...    ...   \n",
       " 169      Tlalnepantla, México, Mexico      NaN     70   \n",
       " 170      Tlaneplantla, México, Mexico      NaN      -   \n",
       " 171         Tultitlan, México, Mexico      NaN      -   \n",
       " 172         Camarones, México, Mexico      NaN      -   \n",
       " 173         Velódromo, Puebla, Mexico      NaN     39   \n",
       " \n",
       "                          dates   co  humidity  no2    o3       p  pm10  pm25  \\\n",
       " 0    2024-06-28T17:07:33+09:00  0.1      86.0  3.2  28.1  1016.2   7.0  17.0   \n",
       " 1    2024-06-28T17:03:50+09:00  0.1      82.0  4.6  28.1  1016.2  17.0  50.0   \n",
       " 2    2024-06-28T17:03:51+09:00  NaN      84.0  1.9   NaN  1014.0  15.0  46.0   \n",
       " 3    2024-06-28T17:03:51+09:00  NaN      82.0  3.7   NaN  1016.2  14.0  38.0   \n",
       " 4    2024-06-28T17:03:51+09:00  NaN      82.0  2.8   NaN  1016.2  12.0  34.0   \n",
       " ..                         ...  ...       ...  ...   ...     ...   ...   ...   \n",
       " 169  2023-09-09T05:40:18+09:00  4.5      28.0  9.3  49.6  1026.5  40.0  70.0   \n",
       " 170  2021-12-17T06:32:04+09:00  NaN      54.0  NaN   NaN  1007.0   NaN   NaN   \n",
       " 171  2023-06-29T23:43:12+09:00  NaN      59.0  NaN   NaN  1027.7   NaN   NaN   \n",
       " 172  2023-08-29T22:44:39+09:00  NaN      62.0  NaN   NaN  1027.4   NaN   NaN   \n",
       " 173  2024-06-28T07:47:54+09:00  1.9      52.0  8.5  39.2  1022.3   NaN   NaN   \n",
       " \n",
       "      so2  temp  wind  \n",
       " 0    1.6  16.1   9.0  \n",
       " 1    1.6  16.1   3.0  \n",
       " 2    NaN  15.5   7.0  \n",
       " 3    NaN  16.1   3.0  \n",
       " 4    NaN  16.1   3.0  \n",
       " ..   ...   ...   ...  \n",
       " 169  2.9  24.0   1.5  \n",
       " 170  NaN  20.0  11.0  \n",
       " 171  NaN  19.0   1.5  \n",
       " 172  NaN  12.0   2.5  \n",
       " 173  1.0  21.0   1.5  \n",
       " \n",
       " [174 rows x 14 columns],\n",
       "                                 names comunity scores  \\\n",
       " 0                              Madrid   Madrid     30   \n",
       " 1       Plaza Elíptica, Madrid, Spain   Madrid     46   \n",
       " 2        Casa De Campo, Madrid, Spain   Madrid     38   \n",
       " 3    Fernandez Ladreda, Madrid, Spain   Madrid     34   \n",
       " 4           Castellana, Madrid, Spain   Madrid     30   \n",
       " ..                                ...      ...    ...   \n",
       " 169      Tlalnepantla, México, Mexico      NaN     70   \n",
       " 170      Tlaneplantla, México, Mexico      NaN      -   \n",
       " 171         Tultitlan, México, Mexico      NaN      -   \n",
       " 172         Camarones, México, Mexico      NaN      -   \n",
       " 173         Velódromo, Puebla, Mexico      NaN     98   \n",
       " \n",
       "                          dates    co  humidity   no2    o3       p  pm10  \\\n",
       " 0    2024-06-29T05:06:34+09:00   0.1      62.0   5.1  28.9  1015.9   8.0   \n",
       " 1    2024-06-29T05:03:48+09:00   0.1      56.0   8.7   NaN  1014.5  16.0   \n",
       " 2    2024-06-29T05:03:48+09:00   NaN      62.0   1.9  37.8  1015.9  10.0   \n",
       " 3    2024-06-29T04:30:53+09:00   NaN      56.0   8.3   NaN  1015.0  16.0   \n",
       " 4    2024-06-29T05:03:51+09:00   NaN      62.0   5.1   NaN  1015.9   8.0   \n",
       " ..                         ...   ...       ...   ...   ...     ...   ...   \n",
       " 169  2023-09-10T05:40:18+09:00   4.5      28.0   9.3  49.6  1026.5  40.0   \n",
       " 170  2021-12-18T06:32:04+09:00   NaN      54.0   NaN   NaN  1007.0   NaN   \n",
       " 171  2023-06-30T23:43:12+09:00   NaN      59.0   NaN   NaN  1027.7   NaN   \n",
       " 172  2023-08-30T22:44:39+09:00   NaN      62.0   NaN   NaN  1027.4   NaN   \n",
       " 173  2024-06-12T12:14:02+09:00  18.0      46.0  11.5  23.2  1024.0  70.0   \n",
       " \n",
       "      pm25  so2  temp  wind  \n",
       " 0    30.0  1.6  20.0   7.0  \n",
       " 1    46.0  NaN  20.0   4.8  \n",
       " 2    21.0  NaN  19.4   3.0  \n",
       " 3    34.0  NaN  20.0   5.1  \n",
       " 4    30.0  NaN  19.4   3.0  \n",
       " ..    ...  ...   ...   ...  \n",
       " 169  70.0  2.9  24.0   1.5  \n",
       " 170   NaN  NaN  20.0  11.0  \n",
       " 171   NaN  NaN  19.0   1.5  \n",
       " 172   NaN  NaN  12.0   2.5  \n",
       " 173  98.0  1.3  21.0   7.2  \n",
       " \n",
       " [174 rows x 14 columns]]"
      ]
     },
     "execution_count": 13,
     "metadata": {},
     "output_type": "execute_result"
    }
   ],
   "source": [
    "csv_prep_path = \"../2.2 csvs_preprocessed\"\n",
    "\n",
    "dfs = []\n",
    "\n",
    "for file in os.listdir(csv_prep_path):\n",
    "    if file.endswith(\".csv\"):\n",
    "        file_path = os.path.join(csv_prep_path, file)\n",
    "        df = pd.read_csv(file_path)\n",
    "        dfs.append(df)\n",
    "dfs"
   ]
  },
  {
   "cell_type": "code",
   "execution_count": 15,
   "id": "87ac2ae5-c296-4aea-97f2-4622c53a37d1",
   "metadata": {},
   "outputs": [],
   "source": [
    "df_final = pd.concat(dfs, ignore_index=True)\n",
    "\n",
    "df_final.sort_values(by=['names', 'dates'], inplace=True)"
   ]
  },
  {
   "cell_type": "code",
   "execution_count": 18,
   "id": "8fe8ecee-b1aa-4bb4-8078-7231b4a854a2",
   "metadata": {},
   "outputs": [
    {
     "name": "stdout",
     "output_type": "stream",
     "text": [
      "CSVs combinados y guardados en 'df_unified.csv'\n"
     ]
    }
   ],
   "source": [
    "final_path = '../2.3 csv_unique/df_unified.csv'\n",
    "df_final.to_csv(final_path, index=False)\n",
    "print(\"CSVs combinados y guardados en 'df_unified.csv'\")"
   ]
  },
  {
   "cell_type": "code",
   "execution_count": null,
   "id": "d61a3c34-2295-4168-a995-bd1fc5c2356e",
   "metadata": {},
   "outputs": [],
   "source": []
  }
 ],
 "metadata": {
  "kernelspec": {
   "display_name": "Python 3 (ipykernel)",
   "language": "python",
   "name": "python3"
  },
  "language_info": {
   "codemirror_mode": {
    "name": "ipython",
    "version": 3
   },
   "file_extension": ".py",
   "mimetype": "text/x-python",
   "name": "python",
   "nbconvert_exporter": "python",
   "pygments_lexer": "ipython3",
   "version": "3.11.5"
  }
 },
 "nbformat": 4,
 "nbformat_minor": 5
}
