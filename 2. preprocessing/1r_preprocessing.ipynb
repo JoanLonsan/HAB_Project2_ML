{
 "cells": [
  {
   "cell_type": "code",
   "execution_count": 1,
   "id": "bc1db80d-2605-4935-9260-9a00e31dfa1d",
   "metadata": {
    "tags": []
   },
   "outputs": [],
   "source": [
    "import pandas as pd\n",
    "import os\n",
    "\n",
    "# Directorios\n",
    "input_dir = '../1.2 csvs_raw/'\n",
    "output_dir = '../2.2 csvs_preprocessed/'"
   ]
  },
  {
   "cell_type": "markdown",
   "id": "47924d58-1c61-4de1-8314-35a6c9b75de5",
   "metadata": {},
   "source": [
    "## SEPARAR FECHA Y HORA Y CATEGORIZAR ESTA ULTIMA"
   ]
  },
  {
   "cell_type": "code",
   "execution_count": 2,
   "id": "db0ac1f3-3e00-4ee5-855c-b2630695bd95",
   "metadata": {
    "tags": []
   },
   "outputs": [],
   "source": [
    "def procesar_archivo(input_path, output_path):\n",
    "    df = pd.read_csv(input_path)\n",
    "    df['dates'] = pd.to_datetime(df['dates'], errors='coerce')\n",
    "    \n",
    "    # Filtrar para mantener solo las filas donde 'dates' corresponde al año 2024\n",
    "    df = df[df['dates'].dt.year == 2024]\n",
    "    \n",
    "    # df['fecha_convertida'] = df['dates'] - pd.Timedelta(hours=7)\n",
    "\n",
    "    # Crear las nuevas columnas 'Dia' y 'Hora'\n",
    "    df['Dia'] = df['dates'].dt.date\n",
    "    df['Hora'] = df['dates'].dt.hour\n",
    "\n",
    "    # Función para categorizar la hora\n",
    "    def categorizar_hora(hora):\n",
    "        if 6 <= hora < 11:\n",
    "            return 'mañana'\n",
    "        elif 11 <= hora < 15:\n",
    "            return 'mediodia'\n",
    "        elif 15 <= hora < 20:\n",
    "            return 'tarde'\n",
    "        elif 20 <= hora < 24:\n",
    "            return 'noche'\n",
    "        else:\n",
    "            return 'otro'\n",
    "\n",
    "    # Aplicar la función a la columna 'hora'\n",
    "    df['periodo'] = df['Hora'].apply(categorizar_hora)\n",
    "\n",
    "    # Función para categorizar la calidad del aire\n",
    "    def categorizar_calidad_aire(score):\n",
    "        if score <= 50:\n",
    "            return 'Buena'\n",
    "        elif score <= 100:\n",
    "            return 'Moderada'\n",
    "        elif score <= 150:\n",
    "            return 'Dañina a la Salud de los Grupos Sensitivos'\n",
    "        elif score <= 200:\n",
    "            return 'Dañina a la Salud'\n",
    "        elif score <= 300:\n",
    "            return 'Muy Dañina a la Salud'\n",
    "        else:\n",
    "            return 'Arriesgado'\n",
    "\n",
    "    # Aplicar la función a la columna 'scores'\n",
    "    df['calidad_aire'] = df['scores'].apply(lambda x: categorizar_calidad_aire(float(x)) if x != '-' else '-')\n",
    "    \n",
    "    # Filtrar para incluir solo registros que corresponden a un territorio español\n",
    "    comunidades_autonomas = ['Madrid', 'Catalunya', 'País Vasco', 'Canarias', 'Galicia', 'Valencia', 'Andalucía', \n",
    "                             'Aragón', 'Asturias', 'Cantabria', 'Castilla-La Mancha', 'Castilla y León', 'Extremadura',\n",
    "                             'Islas Baleares', 'La Rioja', 'Murcia', 'Navarra']\n",
    "    \n",
    "    def es_territorio_espanol(name):\n",
    "        if 'Spain' in name:\n",
    "            return True\n",
    "        for comunidad in comunidades_autonomas:\n",
    "            if comunidad in name:\n",
    "                return True\n",
    "        return False\n",
    "\n",
    "    df = df[df['names'].apply(es_territorio_espanol)]\n",
    "\n",
    "\n",
    "    # Guardar el DataFrame modificado en el archivo de salida\n",
    "    df.to_csv(output_path, index=False)"
   ]
  },
  {
   "cell_type": "code",
   "execution_count": 3,
   "id": "d69d3980-af29-4ce6-af34-5a451370d799",
   "metadata": {
    "tags": []
   },
   "outputs": [],
   "source": [
    "# Recorrer todos los archivos en el directorio de entrada\n",
    "for filename in os.listdir(input_dir):\n",
    "    if filename.endswith('.csv'):\n",
    "        input_path = os.path.join(input_dir, filename)\n",
    "        output_path = os.path.join(output_dir, filename)\n",
    "        \n",
    "        # Comprobar si el archivo ya existe en el directorio de salida\n",
    "        if not os.path.exists(output_path):\n",
    "            procesar_archivo(input_path, output_path)\n",
    "        else:\n",
    "            print(f\"El archivo {output_path} ya existe y no se sobrescribirá.\")"
   ]
  }
 ],
 "metadata": {
  "kernelspec": {
   "display_name": "Python 3 (ipykernel)",
   "language": "python",
   "name": "python3"
  },
  "language_info": {
   "codemirror_mode": {
    "name": "ipython",
    "version": 3
   },
   "file_extension": ".py",
   "mimetype": "text/x-python",
   "name": "python",
   "nbconvert_exporter": "python",
   "pygments_lexer": "ipython3",
   "version": "3.11.5"
  }
 },
 "nbformat": 4,
 "nbformat_minor": 5
}
