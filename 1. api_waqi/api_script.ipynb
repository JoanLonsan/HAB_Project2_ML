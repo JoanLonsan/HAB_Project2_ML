{
 "cells": [
  {
   "cell_type": "code",
   "execution_count": 1,
   "id": "e16c3356-7fb3-4a77-8128-2b3ad2e7d863",
   "metadata": {},
   "outputs": [],
   "source": [
    "import requests\n",
    "import pandas as pd\n",
    "from datetime import datetime\n",
    "import requests\n",
    "from datetime import datetime\n",
    "\n",
    "from pprint import pprint as pp"
   ]
  },
  {
   "cell_type": "code",
   "execution_count": 2,
   "id": "9676e575-c7f3-4575-accd-d00163730f58",
   "metadata": {},
   "outputs": [
    {
     "data": {
      "text/plain": [
       "True"
      ]
     },
     "execution_count": 2,
     "metadata": {},
     "output_type": "execute_result"
    }
   ],
   "source": [
    "from dotenv import load_dotenv\n",
    "import os\n",
    "\n",
    "load_dotenv(encoding='utf-8')"
   ]
  },
  {
   "cell_type": "code",
   "execution_count": 3,
   "id": "e19ad661-a4ae-4aff-b627-7ec5fd1d0347",
   "metadata": {},
   "outputs": [],
   "source": [
    "# Obtencion de API_TOKEN desde Entorno\n",
    "API_TOKEN = os.getenv('API_TOKEN')"
   ]
  },
  {
   "cell_type": "code",
   "execution_count": 4,
   "id": "7c243261-04b7-4b31-817a-6a1a9d44cdcf",
   "metadata": {},
   "outputs": [],
   "source": [
    "# Funcion para rellenar dict con datos de Estacion Meteorologica\n",
    "def fill_list(data, dict, comunity_dict, city):\n",
    "    name = data['city'].get('name')\n",
    "    dict['names'].append(name if name else None)\n",
    "\n",
    "    score = data.get('aqi')\n",
    "    dict['scores'].append(score if score else None)\n",
    "\n",
    "    format = '%Y%m%d_%H%M%S'\n",
    "    date = datetime.now().strftime(format)\n",
    "    ddate = datetime.strptime(date, format)\n",
    "    dict['dates'].append(ddate if ddate else None)\n",
    "\n",
    "    co = data['iaqi'].get('co', {}).get('v')\n",
    "    dict['co'].append(co if co else None)\n",
    "\n",
    "    h = data['iaqi'].get('h', {}).get('v')\n",
    "    dict['humidity'].append(h if h is not None else None)\n",
    "\n",
    "    no2 = data['iaqi'].get('no2', {}).get('v')\n",
    "    dict['no2'].append(no2 if no2 else None)\n",
    "\n",
    "    o3 = data['iaqi'].get('o3', {}).get('v')\n",
    "    dict['o3'].append(o3 if o3 else None)\n",
    "\n",
    "    p = data['iaqi'].get('p', {}).get('v')\n",
    "    dict['p'].append(p if p else None)\n",
    "\n",
    "    pm10 = data['iaqi'].get('pm10', {}).get('v')\n",
    "    dict['pm10'].append(pm10 if pm10 else None)\n",
    "\n",
    "    pm25 = data['iaqi'].get('pm25', {}).get('v')\n",
    "    dict['pm25'].append(pm25 if pm25 else None)\n",
    "\n",
    "    so2 = data['iaqi'].get('so2', {}).get('v')\n",
    "    dict['so2'].append(so2 if so2 else None)\n",
    "\n",
    "    t = data['iaqi'].get('t', {}).get('v')\n",
    "    dict['temp'].append(t if t else None)\n",
    "\n",
    "    w = data['iaqi'].get('w', {}).get('v')\n",
    "    dict['wind'].append(w if w else None)\n",
    "\n",
    "    community_found = False\n",
    "    for key, value in comunity_dict.items():\n",
    "        if city in value:\n",
    "            dict['comunity'].append(key)\n",
    "            community_found = True\n",
    "            break\n",
    "    if not community_found:\n",
    "        dict['comunity'].append(\"None\")"
   ]
  },
  {
   "cell_type": "code",
   "execution_count": 5,
   "id": "b3632790-5087-4761-9f16-9d37c85955c8",
   "metadata": {
    "scrolled": true
   },
   "outputs": [],
   "source": [
    "# Funcion Gral para chupar datos de la API y crear DF\n",
    "# API: https://aqicn.org/api/es/\n",
    "# API DOC: https://aqicn.org/json-api/doc/\n",
    "\n",
    "def collect_data(cities, comunity_dict):\n",
    "    # Dict a rellenar que luego transformaremos en DF\n",
    "    future_df = {\n",
    "        'names': [],\n",
    "        'comunity': [],\n",
    "        'scores': [],\n",
    "        'dates': [],\n",
    "        'co': [],\n",
    "        'humidity': [],\n",
    "        'no2': [],\n",
    "        'o3': [],\n",
    "        'p': [],\n",
    "        'pm10': [],\n",
    "        'pm25': [],\n",
    "        'so2': [],\n",
    "        'temp': [],\n",
    "        'wind': [],\n",
    "    }\n",
    "    \n",
    "    # Bucle por cada estacion de cada ciudad\n",
    "    for city in cities:\n",
    "        print(city)\n",
    "        url = f'https://api.waqi.info/search/?keyword={city}&token={API_TOKEN}'\n",
    "        response = requests.get(url)\n",
    "        data = response.json()\n",
    "        for info in data['data']:\n",
    "            station = info['station']['url']\n",
    "            url = f'http://api.waqi.info/feed/{station}/?token={API_TOKEN}'\n",
    "            response_b = requests.get(url)\n",
    "            data = response_b.json()\n",
    "            if 'data' in data:\n",
    "                fill_list(data['data'], future_df, comunity_dict, city)\n",
    "\n",
    "    # Crear el DF\n",
    "    df = pd.DataFrame(future_df)\n",
    "\n",
    "    # Guardar DF con TimeStamp\n",
    "    timestamp = datetime.now().strftime('%Y%m%d_%H%M%S')\n",
    "    filename = f'../1.2 csvs_raw/cities_stations_{timestamp}.csv'\n",
    "    df.to_csv(filename, index=False, mode='w', header=True)\n",
    "    print(f\"Datos guardados en {filename}\")"
   ]
  },
  {
   "cell_type": "code",
   "execution_count": 6,
   "id": "6722acf8-9f1a-4ed8-82ac-99c03358ccca",
   "metadata": {},
   "outputs": [],
   "source": [
    "# Ciudades a estudiar\n",
    "cities = ['Madrid',\n",
    "          'Gran Canaria',\n",
    "          'Barcelona',\n",
    "          'Bilbao',\n",
    "          'Sevilla',\n",
    "          'Vigo',\n",
    "          'Coruña',\n",
    "          'Valencia',\n",
    "          'Tarragona',\n",
    "          'Burgos',\n",
    "          'Malaga',\n",
    "          'Granada',\n",
    "          'Toledo',\n",
    "          'Segovia',\n",
    "          'Soria',\n",
    "          \"Vitoria\",\n",
    "          \"Palencia\",\n",
    "          \"Zaragoza\"\n",
    "]"
   ]
  },
  {
   "cell_type": "code",
   "execution_count": 7,
   "id": "7941e014-34c1-4e56-83bb-76d4f7107a15",
   "metadata": {},
   "outputs": [],
   "source": [
    "comunity_dict = {\n",
    "    \"Madrid\": [\"Madrid\"],\n",
    "    \"Galicia\": [\"Coruña\", \"Vigo\"],\n",
    "    \"Pais_Vasco\":[\"Bilbao\", \"Vitoria\"],\n",
    "    \"Castilla_Mancha\": [\"Toledo\", \"Guadalajara\"],\n",
    "    \"Castilla_Leon\": [\"Soria\", \"Segovia\", \"Palencia\", \"Burgos\"],\n",
    "    \"Andalucia\": [\"Sevilla\", \"Malaga\", \"Granada\"],\n",
    "    \"Catalunya\": [\"Barcelona\", \"Tarragona\"],\n",
    "    \"Com_Valenciana\": [\"Valencia\", \"Alicante\"],\n",
    "    \"Canarias\": [\"Gran Canaria\"],\n",
    "    \"Aragón\": [\"Zaragoza\"]\n",
    "}"
   ]
  },
  {
   "cell_type": "code",
   "execution_count": 8,
   "id": "3c22ddf3-bb8d-4b33-a92f-641951518a94",
   "metadata": {},
   "outputs": [
    {
     "name": "stdout",
     "output_type": "stream",
     "text": [
      "Madrid\n",
      "Gran Canaria\n",
      "Barcelona\n",
      "Bilbao\n",
      "Sevilla\n",
      "Vigo\n",
      "Coruña\n",
      "Valencia\n",
      "Tarragona\n",
      "Burgos\n",
      "Malaga\n",
      "Granada\n",
      "Toledo\n",
      "Segovia\n",
      "Soria\n",
      "Vitoria\n",
      "Palencia\n",
      "Zaragoza\n",
      "Datos guardados en ../1.2 csvs_raw/cities_stations_20240701_171159.csv\n",
      "CPU times: total: 1.25 s\n",
      "Wall time: 2min 30s\n"
     ]
    }
   ],
   "source": [
    "%%time\n",
    "\n",
    "# Ejecucion del Script\n",
    "collect_data(cities, comunity_dict)"
   ]
  }
 ],
 "metadata": {
  "kernelspec": {
   "display_name": "Python 3 (ipykernel)",
   "language": "python",
   "name": "python3"
  },
  "language_info": {
   "codemirror_mode": {
    "name": "ipython",
    "version": 3
   },
   "file_extension": ".py",
   "mimetype": "text/x-python",
   "name": "python",
   "nbconvert_exporter": "python",
   "pygments_lexer": "ipython3",
   "version": "3.11.5"
  }
 },
 "nbformat": 4,
 "nbformat_minor": 5
}
