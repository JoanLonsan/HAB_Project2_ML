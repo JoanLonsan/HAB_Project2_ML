{
 "cells": [
  {
   "cell_type": "code",
   "execution_count": 1,
   "id": "581b9264-4b63-4763-a588-eae2d118c833",
   "metadata": {},
   "outputs": [
    {
     "name": "stdout",
     "output_type": "stream",
     "text": [
      "                                names comunity scores  \\\n",
      "0                              Madrid   Madrid     28   \n",
      "1     Escuelas Aguirre, Madrid, Spain   Madrid     50   \n",
      "2          Sanchinarro, Madrid, Spain   Madrid     46   \n",
      "3    Plaza De Castilla, Madrid, Spain   Madrid     38   \n",
      "4       Cuatro Caminos, Madrid, Spain   Madrid     34   \n",
      "..                                ...      ...    ...   \n",
      "169      Tlalnepantla, México, Mexico      NaN     70   \n",
      "170      Tlaneplantla, México, Mexico      NaN      -   \n",
      "171         Tultitlan, México, Mexico      NaN      -   \n",
      "172         Camarones, México, Mexico      NaN      -   \n",
      "173         Velódromo, Puebla, Mexico      NaN     39   \n",
      "\n",
      "                         dates   co  humidity  no2    o3       p  pm10  pm25  \\\n",
      "0    2024-06-28T17:07:33+09:00  0.1      86.0  3.2  28.1  1016.2   7.0  17.0   \n",
      "1    2024-06-28T17:03:50+09:00  0.1      82.0  4.6  28.1  1016.2  17.0  50.0   \n",
      "2    2024-06-28T17:03:51+09:00  NaN      84.0  1.9   NaN  1014.0  15.0  46.0   \n",
      "3    2024-06-28T17:03:51+09:00  NaN      82.0  3.7   NaN  1016.2  14.0  38.0   \n",
      "4    2024-06-28T17:03:51+09:00  NaN      82.0  2.8   NaN  1016.2  12.0  34.0   \n",
      "..                         ...  ...       ...  ...   ...     ...   ...   ...   \n",
      "169  2023-09-09T05:40:18+09:00  4.5      28.0  9.3  49.6  1026.5  40.0  70.0   \n",
      "170  2021-12-17T06:32:04+09:00  NaN      54.0  NaN   NaN  1007.0   NaN   NaN   \n",
      "171  2023-06-29T23:43:12+09:00  NaN      59.0  NaN   NaN  1027.7   NaN   NaN   \n",
      "172  2023-08-29T22:44:39+09:00  NaN      62.0  NaN   NaN  1027.4   NaN   NaN   \n",
      "173  2024-06-28T07:47:54+09:00  1.9      52.0  8.5  39.2  1022.3   NaN   NaN   \n",
      "\n",
      "     so2  temp  wind  \n",
      "0    1.6  16.1   9.0  \n",
      "1    1.6  16.1   3.0  \n",
      "2    NaN  15.5   7.0  \n",
      "3    NaN  16.1   3.0  \n",
      "4    NaN  16.1   3.0  \n",
      "..   ...   ...   ...  \n",
      "169  2.9  24.0   1.5  \n",
      "170  NaN  20.0  11.0  \n",
      "171  NaN  19.0   1.5  \n",
      "172  NaN  12.0   2.5  \n",
      "173  1.0  21.0   1.5  \n",
      "\n",
      "[174 rows x 14 columns]\n",
      "Archivo guardado como: cities_stations_20240628_170744.csv\n"
     ]
    }
   ],
   "source": [
    "import pandas as pd\n",
    "\n",
    "df = pd.read_csv('./cities_stations_20240628_170744_2.csv')\n",
    "\n",
    "def restar_un_dia(fecha):\n",
    "    if isinstance(fecha, str) and 'T' in fecha:\n",
    "        fecha, hora = fecha.split('T')\n",
    "        fecha = pd.to_datetime(fecha) - pd.Timedelta(days=1)\n",
    "        return fecha.strftime('%Y-%m-%dT') + hora\n",
    "    else:\n",
    "        return fecha\n",
    "\n",
    "df['dates'] = df['dates'].astype(str)\n",
    "df['dates'] = df['dates'].apply(restar_un_dia)\n",
    "\n",
    "print(df)\n",
    "\n",
    "filename = \"cities_stations_20240628_170744.csv\"\n",
    "df.to_csv(filename, index=False)\n",
    "print(f\"Archivo guardado como: {filename}\")"
   ]
  },
  {
   "cell_type": "code",
   "execution_count": null,
   "id": "a5cc9adc-31aa-4b47-be2d-1a66c5fe07e6",
   "metadata": {},
   "outputs": [],
   "source": []
  }
 ],
 "metadata": {
  "kernelspec": {
   "display_name": "Python 3 (ipykernel)",
   "language": "python",
   "name": "python3"
  },
  "language_info": {
   "codemirror_mode": {
    "name": "ipython",
    "version": 3
   },
   "file_extension": ".py",
   "mimetype": "text/x-python",
   "name": "python",
   "nbconvert_exporter": "python",
   "pygments_lexer": "ipython3",
   "version": "3.11.5"
  }
 },
 "nbformat": 4,
 "nbformat_minor": 5
}
